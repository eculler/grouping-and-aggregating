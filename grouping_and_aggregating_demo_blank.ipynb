{
 "cells": [
  {
   "cell_type": "markdown",
   "metadata": {},
   "source": [
    "# Streamflow and precipitation data from Boulder Creek\n",
    "Grouping and aggregating data - answer key"
   ]
  },
  {
   "cell_type": "markdown",
   "metadata": {},
   "source": [
    "## Setup and import data"
   ]
  },
  {
   "cell_type": "code",
   "execution_count": null,
   "metadata": {},
   "outputs": [],
   "source": [
    "# Libraries used in this demo\n",
    "import matplotlib.pyplot as plt\n",
    "import numpy as np\n",
    "import pandas as pd\n",
    "import seaborn as sns\n",
    "\n",
    "# Data file path\n",
    "streamflow_pth = './boulder_creek_streamflow_wy2010-wy2020.tsv'\n",
    "\n",
    "# Set the plotting theme for nicer plots\n",
    "sns.set(style=\"whitegrid\")\n",
    "\n",
    "# Increase plot resolution\n",
    "%config InlineBackend.figure_format = 'retina'"
   ]
  },
  {
   "cell_type": "markdown",
   "metadata": {},
   "source": [
    "First, let's import the streamflow data into pandas:"
   ]
  },
  {
   "cell_type": "code",
   "execution_count": null,
   "metadata": {},
   "outputs": [],
   "source": [
    "# Read streamflow from csv file\n",
    "streamflow_names = ['agency', 'site', 'date', 'streamflow', 'code']\n",
    "streamflow_df = pd.read_csv(streamflow_pth,\n",
    "                            sep = '\\t',\n",
    "                            comment = '#',\n",
    "                            # Skip header rows so pandas gets datatypes right\n",
    "                            skiprows = [29, 30, 3511, 3512],\n",
    "                            names = streamflow_names,\n",
    "                            # Dates as datetime instead of object\n",
    "                            parse_dates = ['date'],\n",
    "                            usecols = ['site', 'date', 'streamflow'])\n",
    "\n",
    "# Rename sites to upstream and downstream\n",
    "streamflow_df.site = streamflow_df.site.replace(\n",
    "    6727500, 'upstream').replace(\n",
    "    6730200, 'downstream')\n",
    "\n",
    "# set index\n",
    "streamflow_df.set_index(['site', 'date'], inplace=True)\n",
    "\n",
    "# Preview data\n",
    "streamflow_df.head()"
   ]
  },
  {
   "cell_type": "markdown",
   "metadata": {},
   "source": [
    "The upstream gauge only has data from April 1 to September 30 because the stream is empty or frozen at other times. For a better comparison, let's fill in those dates with 0:"
   ]
  },
  {
   "cell_type": "code",
   "execution_count": null,
   "metadata": {},
   "outputs": [],
   "source": [
    "# Fill in missing dates for the upstream gauge with 0\n",
    "downstream = streamflow_df.loc[['downstream']]\n",
    "upstream = streamflow_df.loc[['upstream']].droplevel('site'\n",
    "    # Include all dates in the range\n",
    "    ).reindex(pd.date_range('10-01-2009', '09-30-2020')\n",
    "    # Replace missing data with 0\n",
    "    ).replace(np.nan, 0)\n",
    "\n",
    "# Format the index of the upstream data to match downstream data\n",
    "upstream.index = upstream.index.set_names('date')\n",
    "upstream = pd.concat({'upstream': upstream}, names=['site'])\n",
    "# Reassemble the filled upstream data with the downstream data\n",
    "streamflow_df = pd.concat([upstream, downstream])\n",
    "\n",
    "# Plot the data in a time series\n",
    "ax = streamflow_df.unstack('site').plot(figsize = [10, 5])\n",
    "\n",
    "# Label plot\n",
    "ax.set_ylabel('Daily streamflow (cfs)')\n",
    "ax.legend(labels = ('Downstream gauge', 'Upstream gauge'))"
   ]
  },
  {
   "cell_type": "markdown",
   "metadata": {},
   "source": [
    "Let's take a look at a single year of data to get a better look at the data:"
   ]
  },
  {
   "cell_type": "code",
   "execution_count": null,
   "metadata": {},
   "outputs": [],
   "source": [
    "# Plot WY2020 (Oct 2019-Sept 2020) data only\n",
    "ax = streamflow_df.loc[\n",
    "    streamflow_df.index.get_level_values('date') >= '2019-10-01'\n",
    "    ].unstack('site').plot(figsize = [8, 3])\n",
    "\n",
    "# Better plot labels\n",
    "ax.set_ylabel('Daily streamflow (cfs)')\n",
    "ax.legend(labels = ('Downstream gauge', 'Upstream gauge'))"
   ]
  },
  {
   "cell_type": "markdown",
   "metadata": {},
   "source": [
    "## How much of the streamflow at the downstream gauge comes from the upstream gauge’s branch, on average?\n",
    "\n",
    "To calculate this value, we need to take the average streamflow for each gauge separately. We do this by *grouping* the data by site before computing the mean:"
   ]
  },
  {
   "cell_type": "code",
   "execution_count": null,
   "metadata": {},
   "outputs": [],
   "source": [
    "# Take the mean for each site separately\n",
    "mean_streamflow = INSERT CODE HERE\n",
    "\n",
    "mean_streamflow"
   ]
  },
  {
   "cell_type": "code",
   "execution_count": null,
   "metadata": {},
   "outputs": [],
   "source": [
    "# Compute the percentage\n",
    "(mean_streamflow.loc['upstream'].streamflow /\n",
    "    mean_streamflow.loc['downstream'].streamflow) * 100"
   ]
  },
  {
   "cell_type": "markdown",
   "metadata": {},
   "source": [
    "## Is the pattern of monthly streamflow the same or different for each of these gauge locations?\n",
    "\n",
    "To figure this out, we must group by the site AND the month of the year before averaging (or summarizing in some other way):"
   ]
  },
  {
   "cell_type": "code",
   "execution_count": null,
   "metadata": {},
   "outputs": [],
   "source": [
    "# Put the month and year in separate columns\n",
    "date_idx = streamflow_df.index.get_level_values('date')\n",
    "streamflow_ymd = streamflow_df.set_index(\n",
    "    date_idx.month.rename('month'), append=True)\n",
    "streamflow_ymd.set_index(\n",
    "    date_idx.year.rename('year'), append=True, inplace=True)\n",
    "\n",
    "streamflow_ymd"
   ]
  },
  {
   "cell_type": "markdown",
   "metadata": {},
   "source": [
    "Remember our plot of the entire 10 years of streamflow? It was hard to see what was happening. It's common to take a look at the average monthly streamflow instead when we look at multiple years of data. To do this, we must group by not only the site, but also the month and the year of the streamflow."
   ]
  },
  {
   "cell_type": "code",
   "execution_count": null,
   "metadata": {},
   "outputs": [],
   "source": [
    "# Calculate the total monthly streamflow\n",
    "monthly_mean_streamflow = INSERT CODE HERE\n",
    "\n",
    "# Convert the month and year back to a datetime\n",
    "monthly_mean_streamflow.reset_index(['year', 'month'], inplace=True)\n",
    "# Use the 15th for the day for plotting\n",
    "monthly_mean_streamflow['day'] = 15\n",
    "# Convert to datetime\n",
    "monthly_mean_streamflow['date'] = pd.to_datetime(\n",
    "    monthly_mean_streamflow[['day', 'month', 'year']])\n",
    "# Set date to index level\n",
    "monthly_mean_streamflow = monthly_mean_streamflow.set_index(\n",
    "    'date', append=True)[['streamflow']]\n",
    "\n",
    "# Preview data\n",
    "monthly_mean_streamflow"
   ]
  },
  {
   "cell_type": "code",
   "execution_count": null,
   "metadata": {},
   "outputs": [],
   "source": [
    "# Plot the monthly mean streamflow for each site\n",
    "ax = monthly_mean_streamflow.unstack('site').plot(figsize=[10,5])\n",
    "\n",
    "# Better plot labels\n",
    "ax.set_ylabel('Monthly mean streamflow (cfs)')\n",
    "ax.legend(labels = ('Downstream gauge', 'Upstream gauge'))"
   ]
  },
  {
   "cell_type": "markdown",
   "metadata": {},
   "source": [
    "We also might want to compare the climatology of streamflow, or the *typical* (average) daily streamflow from each month of the year. To  accomplish this, what variables do we need to group by?"
   ]
  },
  {
   "cell_type": "markdown",
   "metadata": {},
   "source": [
    "*RESPONSE HERE*"
   ]
  },
  {
   "cell_type": "code",
   "execution_count": null,
   "metadata": {},
   "outputs": [],
   "source": [
    "# Calculate the typical average streamflow value for each month\n",
    "monthly_climatology = INSERT CODE HERE\n",
    "\n",
    "monthly_climatology"
   ]
  },
  {
   "cell_type": "markdown",
   "metadata": {},
   "source": [
    "Since the downstream gauge is on a higher order of stream than the upstream gauge, the streamflow there is much higher. To really compare the two locations, it will be helpful to normalize the streamflow values by the maximum monthly streamflow for each gauge."
   ]
  },
  {
   "cell_type": "code",
   "execution_count": null,
   "metadata": {},
   "outputs": [],
   "source": [
    "# Normalize by the maximum value\n",
    "monthly_climatology['streamflow_norm'] = monthly_climatology.groupby(\n",
    "    ['site']).streamflow.transform(lambda x: x / x.max())\n",
    "\n",
    "# Now we should have 12 values for each site - one for every month of the year\n",
    "monthly_climatology"
   ]
  },
  {
   "cell_type": "markdown",
   "metadata": {},
   "source": [
    "Let's plot the annual pattern to see if it looks similar:"
   ]
  },
  {
   "cell_type": "code",
   "execution_count": null,
   "metadata": {},
   "outputs": [],
   "source": [
    "# Plot the monthly streamflow climatology\n",
    "ax = monthly_climatology['streamflow_norm'].unstack('site'\n",
    "    ).plot.bar(figsize=[5,5])\n",
    "\n",
    "# Better plot labels\n",
    "ax.set_ylabel('Normalized streamflow')\n",
    "ax.legend(labels = ('Downstream gauge', 'Upstream gauge'))"
   ]
  },
  {
   "cell_type": "markdown",
   "metadata": {},
   "source": [
    "### How are the monthly streamflow patterns similar for the two gauges? How are they different? Why?"
   ]
  },
  {
   "cell_type": "markdown",
   "metadata": {},
   "source": [
    "Streamflow at both gauges peaks in the spring and is lower in the summer. The peak for the upstream gauge is earlier in the season, probably because that gauge is in an area where the snow melts out earlier than it does for the rest of the basin."
   ]
  },
  {
   "cell_type": "markdown",
   "metadata": {},
   "source": [
    "## Which of the gauges has the most variability (relative to the mean) in monthly and daily streamflow?"
   ]
  },
  {
   "cell_type": "markdown",
   "metadata": {},
   "source": [
    "### What are the steps to computing and normalizing the daily variability?"
   ]
  },
  {
   "cell_type": "markdown",
   "metadata": {},
   "source": [
    "*RESPONSE HERE*"
   ]
  },
  {
   "cell_type": "markdown",
   "metadata": {},
   "source": [
    "### What are the steps to computing and normalizing the monthly variability?"
   ]
  },
  {
   "cell_type": "markdown",
   "metadata": {},
   "source": [
    "*RESPONSE HERE*"
   ]
  },
  {
   "cell_type": "markdown",
   "metadata": {},
   "source": [
    "### Plot the daily z-score for each gauge"
   ]
  },
  {
   "cell_type": "markdown",
   "metadata": {},
   "source": [
    "First, let's look at the daily variability visually by computing the daily z-score:"
   ]
  },
  {
   "cell_type": "code",
   "execution_count": null,
   "metadata": {},
   "outputs": [],
   "source": [
    "# Compute z-scores for each site\n",
    "ax = streamflow_df.groupby('site'\n",
    "    ).transform(lambda x: (x - x.mean()) / x.std()\n",
    "    # Plot z-scores\n",
    "    ).unstack('site').plot(figsize=[5,5])\n",
    "\n",
    "# Better plot labels\n",
    "ax.set_ylabel('Daily streamflow z-score')\n",
    "ax.legend(labels = ('Downstream gauge', 'Upstream gauge'))"
   ]
  },
  {
   "cell_type": "markdown",
   "metadata": {},
   "source": [
    "### Compute the relative standard deviation of daily streamflow at each gauge"
   ]
  },
  {
   "cell_type": "code",
   "execution_count": null,
   "metadata": {},
   "outputs": [],
   "source": [
    "# Take the site mean and standard deviation\n",
    "streamflow_daily_relvar = INSERT CODE HERE\n",
    "\n",
    "# Calculate the relative standard deviation\n",
    "streamflow_daily_relvar['relvar'] = (\n",
    "    streamflow_daily_relvar[('streamflow', 'std')] / \n",
    "    streamflow_daily_relvar[('streamflow', 'mean')])\n",
    "\n",
    "streamflow_daily_relvar"
   ]
  },
  {
   "cell_type": "markdown",
   "metadata": {},
   "source": [
    "### Compute the relative standard deviation of monthly mean streamflow at each gauge"
   ]
  },
  {
   "cell_type": "code",
   "execution_count": null,
   "metadata": {},
   "outputs": [],
   "source": [
    "# Take the standard deviation and mean of the monthly mean streamflow\n",
    "streamflow_monthly_relvar = INSERT CODE HERE\n",
    "\n",
    "# Calculate the relative standard deviation\n",
    "streamflow_monthly_relvar['relative_std'] = (\n",
    "    streamflow_monthly_relvar[('streamflow', 'std')] / \n",
    "    streamflow_monthly_relvar[('streamflow', 'mean')])\n",
    "\n",
    "streamflow_monthly_relvar"
   ]
  },
  {
   "cell_type": "markdown",
   "metadata": {},
   "source": [
    "### What do you observe about the relative variability of streamflow at each gauge? What about aggregated to different time intervals? Why?"
   ]
  },
  {
   "cell_type": "markdown",
   "metadata": {},
   "source": [
    "*RESPONSE HERE*"
   ]
  },
  {
   "cell_type": "markdown",
   "metadata": {},
   "source": [
    "## Think of an additional way to group and aggregate the streamflow data and implement it, or use grouping and aggregating to analyse your own data"
   ]
  },
  {
   "cell_type": "markdown",
   "metadata": {},
   "source": [
    "*RESPONSE HERE*"
   ]
  }
 ],
 "metadata": {
  "kernelspec": {
   "display_name": "Python 3",
   "language": "python",
   "name": "python3"
  },
  "language_info": {
   "codemirror_mode": {
    "name": "ipython",
    "version": 3
   },
   "file_extension": ".py",
   "mimetype": "text/x-python",
   "name": "python",
   "nbconvert_exporter": "python",
   "pygments_lexer": "ipython3",
   "version": "3.7.0b3"
  },
  "varInspector": {
   "cols": {
    "lenName": 16,
    "lenType": 16,
    "lenVar": 40
   },
   "kernels_config": {
    "python": {
     "delete_cmd_postfix": "",
     "delete_cmd_prefix": "del ",
     "library": "var_list.py",
     "varRefreshCmd": "print(var_dic_list())"
    },
    "r": {
     "delete_cmd_postfix": ") ",
     "delete_cmd_prefix": "rm(",
     "library": "var_list.r",
     "varRefreshCmd": "cat(var_dic_list()) "
    }
   },
   "position": {
    "height": "813.85px",
    "left": "1463px",
    "right": "20px",
    "top": "108px",
    "width": "317px"
   },
   "types_to_exclude": [
    "module",
    "function",
    "builtin_function_or_method",
    "instance",
    "_Feature"
   ],
   "window_display": true
  }
 },
 "nbformat": 4,
 "nbformat_minor": 4
}
