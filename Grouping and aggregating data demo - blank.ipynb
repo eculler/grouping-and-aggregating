{
 "cells": [
  {
   "cell_type": "markdown",
   "metadata": {},
   "source": [
    "# Streamflow and precipitation data from Boulder Creek\n",
    "Grouping and aggregating data"
   ]
  },
  {
   "cell_type": "markdown",
   "metadata": {},
   "source": [
    "## Setup"
   ]
  },
  {
   "cell_type": "code",
   "execution_count": null,
   "metadata": {},
   "outputs": [],
   "source": [
    "# Libraries used in this demo\n",
    "import numpy as np\n",
    "import pandas as pd\n",
    "import matplotlib.pyplot as plt\n",
    "\n",
    "# Data file path\n",
    "streamflow_pth = './boulder_creek_streamflow_wy2010-wy2020.tsv'"
   ]
  },
  {
   "cell_type": "markdown",
   "metadata": {},
   "source": [
    "First, let's import the streamflow data into pandas:"
   ]
  },
  {
   "cell_type": "code",
   "execution_count": null,
   "metadata": {
    "scrolled": true
   },
   "outputs": [],
   "source": [
    "# Read streamflow from csv file\n",
    "streamflow_names = ['agency', 'site', 'date', 'streamflow', 'code']\n",
    "streamflow_df = pd.read_csv(streamflow_pth,\n",
    "                            sep = '\\t',\n",
    "                            comment = '#',\n",
    "                            # Skip header rows so pandas gets datatypes right\n",
    "                            skiprows = [29, 30, 3511, 3512],\n",
    "                            names = streamflow_names,\n",
    "                            # Dates as datetime instead of object\n",
    "                            parse_dates = ['date'],\n",
    "                            usecols = ['site', 'date', 'streamflow'])\n",
    "\n",
    "# Rename sites to upstream and downstream\n",
    "streamflow_df.site = streamflow_df.site.replace(\n",
    "    6727500, 'upstream').replace(\n",
    "    6730200, 'downstream')\n",
    "\n",
    "# Preview data\n",
    "streamflow_df.head()"
   ]
  },
  {
   "cell_type": "markdown",
   "metadata": {},
   "source": [
    "The upstream gauge only has data from April 1 to September 30 because the stream is empty or frozen at other times. For a better comparison, let's limit the data to those months:"
   ]
  },
  {
   "cell_type": "code",
   "execution_count": null,
   "metadata": {},
   "outputs": [],
   "source": [
    "# Filter months between April and September, inclusive\n",
    "streamflow_df = streamflow_df.loc[streamflow_df.date.dt.month.between(4, 9)]\n",
    "\n",
    "# Check that the minimum month is 4 and the maximum is 9\n",
    "streamflow_df.date.dt.month.describe(percentiles = [])"
   ]
  },
  {
   "cell_type": "markdown",
   "metadata": {},
   "source": [
    "## How much of the streamflow at the downstream gauge comes from the upstream gauge’s branch, on average?\n",
    "\n",
    "To calculate this value, we need to take the average streamflow for each gauge separately. We do this by *grouping* the DataFrame by site before computing the mean:"
   ]
  },
  {
   "cell_type": "code",
   "execution_count": null,
   "metadata": {},
   "outputs": [],
   "source": [
    "# Take the mean for each site separately\n"
   ]
  },
  {
   "cell_type": "markdown",
   "metadata": {},
   "source": [
    "## Is the pattern of monthly streamflow the same or different for each of these gauge locations?\n",
    "\n",
    "To figure this out, we must group by the site AND the month of the year before averaging (or summarizing in some other way):"
   ]
  },
  {
   "cell_type": "code",
   "execution_count": null,
   "metadata": {},
   "outputs": [],
   "source": [
    "# Put the month in a separate column\n",
    "\n",
    "\n",
    "# Group by site AND month\n",
    "streamflow_mean_monthly =\n",
    "\n",
    "# View results\n",
    "streamflow_mean_monthly"
   ]
  },
  {
   "cell_type": "markdown",
   "metadata": {},
   "source": [
    "Since the downstream gauge is on a higher order of stream than the upstream gauge, the streamflow there is much higher. To really compare the two locations, it will be helpful to normalize the streamflow values by the maximum monthly streamflow for each gauge."
   ]
  },
  {
   "cell_type": "code",
   "execution_count": null,
   "metadata": {},
   "outputs": [],
   "source": [
    "# Normalize by the maximum value\n",
    "streamflow_mean_monthly['streamflow_norm'] = \n",
    "\n",
    "# Now we should have 6 values for each site - one for every month of the year\n",
    "streamflow_mean_monthly"
   ]
  },
  {
   "cell_type": "markdown",
   "metadata": {},
   "source": [
    "Let's plot the annual pattern to see if it looks similar:"
   ]
  },
  {
   "cell_type": "code",
   "execution_count": null,
   "metadata": {},
   "outputs": [],
   "source": [
    "# Bar plot of monthly average streamflow\n",
    "ax = streamflow_mean_monthly['streamflow_norm'].unstack(0).plot.bar()\n",
    "ax.set_ylabel('Normalized streamflow')"
   ]
  },
  {
   "cell_type": "markdown",
   "metadata": {},
   "source": [
    "### How are the monthly streamflow patterns similar for the two gauges? How are they different? Why?"
   ]
  },
  {
   "cell_type": "markdown",
   "metadata": {},
   "source": [
    "Streamflow at both gauges peaks in the spring and is lower in the summer. The peak for the upstream gauge is earlier in the season, probably because that gauge is in an area where the snow melts out earlier than it does for the rest of the basin."
   ]
  },
  {
   "cell_type": "markdown",
   "metadata": {},
   "source": [
    "## Which of the gauges has the most variability (relative to the mean) in monthly and daily streamflow?"
   ]
  },
  {
   "cell_type": "markdown",
   "metadata": {},
   "source": [
    "### What are the steps to computing and normalizing the daily variability?"
   ]
  },
  {
   "cell_type": "markdown",
   "metadata": {},
   "source": []
  },
  {
   "cell_type": "markdown",
   "metadata": {},
   "source": [
    "### What are the steps to computing and normalizing the monthly variability?"
   ]
  },
  {
   "cell_type": "markdown",
   "metadata": {},
   "source": []
  },
  {
   "cell_type": "markdown",
   "metadata": {},
   "source": [
    "### Compute the relative variability (ratio of standard deviation to the mean) of daily streamflow at each gauge"
   ]
  },
  {
   "cell_type": "code",
   "execution_count": null,
   "metadata": {},
   "outputs": [],
   "source": []
  },
  {
   "cell_type": "markdown",
   "metadata": {},
   "source": [
    "### Compute the relative variability of monthly streamflow at each gauge"
   ]
  },
  {
   "cell_type": "code",
   "execution_count": null,
   "metadata": {},
   "outputs": [],
   "source": []
  },
  {
   "cell_type": "markdown",
   "metadata": {},
   "source": [
    "### What do you observe about the relative variability of streamflow at each gauge? What about aggregated to different time intervals? Why?"
   ]
  },
  {
   "cell_type": "markdown",
   "metadata": {},
   "source": []
  },
  {
   "cell_type": "markdown",
   "metadata": {},
   "source": [
    "## Think of an additional way to group and aggregate the streamflow data and implement it, or use grouping and aggregating to analyse your own data"
   ]
  },
  {
   "cell_type": "code",
   "execution_count": null,
   "metadata": {},
   "outputs": [],
   "source": []
  }
 ],
 "metadata": {
  "kernelspec": {
   "display_name": "Python 3",
   "language": "python",
   "name": "python3"
  },
  "language_info": {
   "codemirror_mode": {
    "name": "ipython",
    "version": 3
   },
   "file_extension": ".py",
   "mimetype": "text/x-python",
   "name": "python",
   "nbconvert_exporter": "python",
   "pygments_lexer": "ipython3",
   "version": "3.7.0b3"
  },
  "varInspector": {
   "cols": {
    "lenName": 16,
    "lenType": 16,
    "lenVar": 40
   },
   "kernels_config": {
    "python": {
     "delete_cmd_postfix": "",
     "delete_cmd_prefix": "del ",
     "library": "var_list.py",
     "varRefreshCmd": "print(var_dic_list())"
    },
    "r": {
     "delete_cmd_postfix": ") ",
     "delete_cmd_prefix": "rm(",
     "library": "var_list.r",
     "varRefreshCmd": "cat(var_dic_list()) "
    }
   },
   "position": {
    "height": "813.85px",
    "left": "1464px",
    "right": "20px",
    "top": "114px",
    "width": "317px"
   },
   "types_to_exclude": [
    "module",
    "function",
    "builtin_function_or_method",
    "instance",
    "_Feature"
   ],
   "window_display": true
  }
 },
 "nbformat": 4,
 "nbformat_minor": 4
}
